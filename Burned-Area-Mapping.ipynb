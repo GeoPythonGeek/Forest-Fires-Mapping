{
 "cells": [
  {
   "cell_type": "code",
   "execution_count": 1,
   "metadata": {},
   "outputs": [],
   "source": [
    "#Import the geemap and google earth engine module \n",
    "import geemap\n",
    "import ee"
   ]
  },
  {
   "cell_type": "code",
   "execution_count": 19,
   "metadata": {},
   "outputs": [
    {
     "data": {
      "application/vnd.jupyter.widget-view+json": {
       "model_id": "67ae13e3d0a6454f9cd005b99657c59f",
       "version_major": 2,
       "version_minor": 0
      },
      "text/plain": [
       "Map(center=[38.8, 23.5], controls=(WidgetControl(options=['position', 'transparent_bg'], widget=HBox(children=…"
      ]
     },
     "metadata": {},
     "output_type": "display_data"
    }
   ],
   "source": [
    "Map = geemap.Map(center=[38.8,23.5], zoom=10)\n",
    "Map"
   ]
  },
  {
   "cell_type": "code",
   "execution_count": 22,
   "metadata": {},
   "outputs": [],
   "source": [
    "#Select your Study Area by drwaing a bounding box from the map\n",
    "\n",
    "feature = Map.draw_last_feature\n",
    "aoi = feature.geometry()\n",
    "\n",
    "# Define time interval for the Sentinel - 1 data\n",
    "\n",
    "#Before Fire (Start Date)\n",
    "before_start='2021-07-20'\n",
    "before_end='2021-07-30'\n",
    "\n",
    "#After Fire (End Date)\n",
    "after_start='2021-08-25'\n",
    "after_end='2021-09-05'\n",
    "\n",
    "#Parameters for SAR\n",
    "\n",
    "polarization =\"VH\";            #Preferred polarization for Fire mapping, but you can also select 'VV'\n",
    "\n",
    "pass_direction=\"ASCENDING\";   #Or DESCENDING consider changing this parameter if your image collection is empty\n",
    "\n",
    "difference_threshold=1.15;     #Threshold to be applied on the difference image, leave default\n",
    "\n",
    "#Dont make changes in the below section\n",
    "\n",
    "#Load and Select Sentinel-1 data by predefined level\n",
    "# Load and filter Sentinel-1 GRD data by predefined parameters\n",
    "collection= ee.ImageCollection('COPERNICUS/S1_GRD') \\\n",
    "  .filter(ee.Filter.eq('instrumentMode','IW')) \\\n",
    "  .filter(ee.Filter.listContains('transmitterReceiverPolarisation', polarization)) \\\n",
    "  .filter(ee.Filter.eq('orbitProperties_pass',pass_direction)) \\\n",
    "  .filter(ee.Filter.eq('resolution_meters',10)) \\\n",
    "  .filterBounds(aoi) \\\n",
    "  .select(polarization)\n",
    "\n",
    "# Select images by predefined dates\n",
    "before_collection = collection.filterDate(before_start, before_end)\n",
    "after_collection = collection.filterDate(after_start,after_end)\n",
    "\n",
    "# Create a mosaic of selected tiles and clip to study area\n",
    "before = before_collection.mosaic().clip(aoi)\n",
    "after = after_collection.mosaic().clip(aoi)\n",
    "\n",
    "# Apply reduce the radar speckle by smoothing\n",
    "smoothing_radius = 50\n",
    "before_filtered = before.focal_mean(smoothing_radius, 'circle', 'meters')\n",
    "after_filtered = after.focal_mean(smoothing_radius, 'circle', 'meters')\n",
    "\n",
    "#------------------------------- FIRE EXTENT MAPPING -------------------------------#\n",
    "\n",
    "# Calculate the difference between the before and after images\n",
    "difference = after_filtered.divide(before_filtered)\n",
    "\n",
    "# Apply the predefined difference-threshold and create the fire extent mask\n",
    "threshold = difference_threshold\n",
    "difference_binary = difference.gt(threshold)\n",
    "\n",
    "# I discovered that some crop fields produce misleading pixels.\n",
    "# Include ESA Landcover layer to mask cropland, water and built-up areas\n",
    "sfire = ee.ImageCollection(\"ESA/WorldCover/v100\").first()\n",
    "sfire_mask = sfire.gte(40).updateMask(sfire.gte(40))\n",
    "\n",
    "#Burned layer where crop land, water and builtup area is assigned a 0 value\n",
    "burned_mask = difference_binary.where(sfire_mask,0)\n",
    "# Burned layer without pixels in perennial crop lands, water and builtup area\n",
    "burned = burned_mask.updateMask(burned_mask)\n",
    "\n",
    "# Compute connectivity of pixels to eliminate those connected to 8 or fewer neighbours\n",
    "# This operation reduces noise of the fire extent product\n",
    "connections = burned.connectedPixelCount()\n",
    "burned = burned.updateMask(connections.gte(34))\n",
    "\n",
    "Map.addLayer(before_filtered, {'min':-25, 'max':0}, 'Before Fire',0)\n",
    "Map.addLayer(after_filtered, {'min':-25, 'max':0}, 'After Fire',1)\n",
    "Map.addLayer(difference,{'min':0, 'max':2},\"Difference Layer\",0)\n",
    "Map.addLayer(burned,{'palette':'ffce00'},'Burned Area')"
   ]
  },
  {
   "cell_type": "code",
   "execution_count": 18,
   "metadata": {},
   "outputs": [],
   "source": [
    "import os"
   ]
  },
  {
   "cell_type": "code",
   "execution_count": 31,
   "metadata": {},
   "outputs": [
    {
     "name": "stdout",
     "output_type": "stream",
     "text": [
      "Generating URL ...\n",
      "Downloading data from https://earthengine.googleapis.com/v1alpha/projects/earthengine-legacy/thumbnails/8dfd3c811bea282ddf74e1fce654b16c-3f444fb99a895e5d2812f135427d0ca8:getPixels\n",
      "Please wait ...\n",
      "Data downloaded to C:\\Users\\Abu Bakar\\Downloads\n"
     ]
    }
   ],
   "source": [
    "# Set output directory\n",
    "out_dir = os.path.expanduser('~/Downloads')\n",
    "\n",
    "if not os.path.exists(out_dir):\n",
    "    os.makedirs(out_dir)\n",
    "\n",
    "filename = os.path.join(out_dir, 'burned.tif')\n",
    "\n",
    "geemap.ee_export_image(before_filtered, filename=filename, scale=35, region=aoi, file_per_band=True)"
   ]
  }
 ],
 "metadata": {
  "kernelspec": {
   "display_name": "Python 3",
   "language": "python",
   "name": "python3"
  },
  "language_info": {
   "codemirror_mode": {
    "name": "ipython",
    "version": 3
   },
   "file_extension": ".py",
   "mimetype": "text/x-python",
   "name": "python",
   "nbconvert_exporter": "python",
   "pygments_lexer": "ipython3",
   "version": "3.8.7"
  }
 },
 "nbformat": 4,
 "nbformat_minor": 4
}
